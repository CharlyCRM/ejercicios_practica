{
 "cells": [
  {
   "cell_type": "markdown",
   "id": "dc7e0203",
   "metadata": {},
   "source": [
    "# Aprende Pandas y Análisis de Datos en una Semana\n",
    "Este documento contiene los ejercicios realizados en el libro que lleva su nombre"
   ]
  },
  {
   "cell_type": "markdown",
   "id": "e7a398a0",
   "metadata": {},
   "source": [
    "## Etapas Proceso del Análisis de datos\n",
    "- Definición del Análisis\n",
    "- Recopilación y Preparación de los Datos\n",
    "- Análisis de los Datos\n",
    "- Interpretación de los resultados\n",
    "- Toma de Decisiones"
   ]
  },
  {
   "cell_type": "code",
   "execution_count": null,
   "id": "14495c81",
   "metadata": {},
   "outputs": [],
   "source": [
    "# Módulos\n",
    "import pandas as pd\n",
    "import random"
   ]
  },
  {
   "cell_type": "code",
   "execution_count": null,
   "id": "29f9159e",
   "metadata": {},
   "outputs": [],
   "source": [
    "# Ejercicio 1\n",
    "# Crear una Serie y compararla con una lista\n",
    "\n",
    "ciudades: list[str] = [\"Barcelona\", \"Madrid\", \"Valencia\", \"Sevilla\", \"Cadiz\"]\n",
    "numeros: list[int] = list((range(0, 10)))\n",
    "\n",
    "monedas: dict = {\n",
    "    \"España\": \"Euro\",\n",
    "    \"Estados Unidos\": \"Dolar\",\n",
    "    \"Japon\": \"Yen\",\n",
    "    \"México\": \"Peso Mexicano\",\n",
    "    \"Bolivia\": \"Bolivares\"\n",
    "}\n",
    "\n",
    "series_obj = pd.Series(ciudades)\n",
    "print(f\"-- Serie Pandas Type Object --\")\n",
    "print(series_obj)\n",
    "\n",
    "print(f\"\\n-- Lista Pyhon --\")\n",
    "print(ciudades)\n",
    "\n",
    "series_int = pd.Series(numeros)\n",
    "print(f\"\\n-- Serie Pandas Type Int64--\")\n",
    "print(series_int)\n",
    "\n",
    "series_dict = pd.Series(monedas)\n",
    "print(f\"\\n-- Serie Pandas Type dict--\")\n",
    "print(series_dict)"
   ]
  },
  {
   "cell_type": "code",
   "execution_count": null,
   "id": "1e413d36",
   "metadata": {},
   "outputs": [],
   "source": [
    "# Ejercicio 2\n",
    "# Uso de algunos métodos en Series\n",
    "\n",
    "colores = pd.Series([\"azul\", \"rojo\", \"negro\", \"verde\", \"amarillo\", \"lila\", \"naranja\", \"marrón\", \"blanco\", \"rosa\"])\n",
    "print(f\"- Tamaño de la Serie: {colores.size}\")\n",
    "print(f\"- Comprobar si solo contiene valores únicos: {colores.is_unique}\")\n",
    "print(f\"- Mostrar el indice: {colores.index}\")\n",
    "print(f\"- Mostrar los valores: {colores.values} \")"
   ]
  },
  {
   "cell_type": "code",
   "execution_count": null,
   "id": "36a463db",
   "metadata": {},
   "outputs": [],
   "source": [
    "# Ejercicio 3\n",
    "# Crear Series con índices personalizados\n",
    "\n",
    "dias_semana = [\"lunes\", \"martes\", \"miercoles\", \"jueves\", \"viernes\", \"sabado\", \"domingo\"]\n",
    "deporte_semanal = [\"crossfit\", \"crossfit\", \"crossfit\", \"descanso\", \"spinning\", \"running\", \"running\"]\n",
    "\n",
    "print(f\"- dias_semana: \\n{pd.Series(dias_semana)}\")\n",
    "print(f\"\\n- deporte_semanal: \\n{pd.Series(deporte_semanal)}\")\n",
    "\n",
    "print(f\"\\n- Serie con indice personalizado: \\n{pd.Series(data=deporte_semanal, index=dias_semana)}\")"
   ]
  },
  {
   "cell_type": "code",
   "execution_count": null,
   "id": "09a30b01",
   "metadata": {},
   "outputs": [],
   "source": [
    "# Ejercicio 4\n",
    "# Selección de datos, ordenarlos y otros mñetodos\n",
    "\n",
    "random.seed(42)\n",
    "numeros_aleatorios = random.sample(range(1,100), 10)\n",
    "\n",
    "numeros_serie = pd.Series(numeros_aleatorios) \n",
    "print(f\"Mostrar los primeros elementos: \\n{numeros_serie.head(3)}\")\n",
    "print(f\"\\nMostrar los últimos elementos: \\n{numeros_serie.tail(3)}\")\n",
    "print(f\"\\nMostrar datos ordenador por valor: \\n{numeros_serie.sort_values(ascending=True)}\")\n",
    "print(\"- \"*50)\n",
    "print(f\"\\nMostrar datos ordenador por valor y solo los 5 primeros: \\n{numeros_serie.sort_values(ascending=False).head(5)}\")"
   ]
  },
  {
   "cell_type": "code",
   "execution_count": 31,
   "id": "12508e98",
   "metadata": {},
   "outputs": [
    {
     "name": "stdout",
     "output_type": "stream",
     "text": [
      "Listado 0    82\n",
      "1    15\n",
      "2     4\n",
      "3    95\n",
      "4    36\n",
      "dtype: int64\n",
      "\n",
      "- Mostrar el valor del elemento en el indice 3: -> 95\n",
      "\n",
      "- Mostrar el valor del varios elementos: \n",
      "4    36\n",
      "2     4\n",
      "1    15\n",
      "dtype: int64\n"
     ]
    }
   ],
   "source": [
    "# Ejerccio 5\n",
    "# Selecionar datos individuales o subconjuntos utilizandi indexación sobre la serie\n",
    "\n",
    "random.seed(42)\n",
    "numeros_aleatorios = random.sample(range(1,100), 10)\n",
    "numeros_aleatorios = pd.Series(numeros_aleatorios)\n",
    "\n",
    "monedas: dict = {\n",
    "    \"España\": \"Euro\",\n",
    "    \"Estados Unidos\": \"Dolar\",\n",
    "    \"Japon\": \"Yen\",\n",
    "    \"México\": \"Peso Mexicano\",\n",
    "    \"Bolivia\": \"Bolivares\"\n",
    "}\n",
    "monedas = pd.Series(monedas)\n",
    "print(f\"Listado {numeros_aleatorios.head(5)}\")\n",
    "# iloc: este método devuelve el elemento que ocupa la posición indicada entre corchetes\n",
    "print(f\"\\n- Mostrar el valor del elemento en el indice 3: -> {numeros_aleatorios.iloc[3]}\")\n",
    "print(f\"\\n- Mostrar el valor del varios elementos: \\n{numeros_aleatorios.iloc[[4,2,1]]}\")\n"
   ]
  }
 ],
 "metadata": {
  "kernelspec": {
   "display_name": ".venv",
   "language": "python",
   "name": "python3"
  },
  "language_info": {
   "codemirror_mode": {
    "name": "ipython",
    "version": 3
   },
   "file_extension": ".py",
   "mimetype": "text/x-python",
   "name": "python",
   "nbconvert_exporter": "python",
   "pygments_lexer": "ipython3",
   "version": "3.11.2"
  }
 },
 "nbformat": 4,
 "nbformat_minor": 5
}
