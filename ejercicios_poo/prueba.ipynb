{
 "cells": [
  {
   "cell_type": "code",
   "execution_count": 5,
   "metadata": {},
   "outputs": [],
   "source": [
    "import matplotlib.pyplot as plt\n",
    "from wordcloud import WordCloud\n",
    "from PIL import Image\n",
    "import numpy as np\n",
    "\n",
    "# Palabras relevantes para el sector de corredurías de seguros\n",
    "texto_corredurías = \"\"\"\n",
    "seguros, póliza, corredor, aseguradora, prima, siniestro, indemnización, coberturas, riesgos,\n",
    "cliente, asesoría, contrato, responsabilidad, protección, vida, auto, hogar, salud, patrimonio,\n",
    "daños, contingencias, cobertura, reaseguro, ramo, evaluación, siniestros, renovación,\n",
    "cláusulas, exclusiones, capital asegurado, pago, primas, cálculo de riesgos, deducibles,\n",
    "intermediación, corretaje, financiero, gestión, asesoramiento, cartera, negocio, incidentes,\n",
    "riesgos financieros, análisis de riesgos, consultoría, seguros de vida, seguros generales,\n",
    "beneficiario, asegurado, tomador, mediador, broker, comisiones, peritaje, valoración,\n",
    "accidentes, responsabilidad civil, multirriesgo, planes de pensiones, ahorro, inversión,\n",
    "prevención, garantías, bonificación, franquicia, mutua, actuario, auditoría, capitalización,\n",
    "contingencia, dependencia, invalidez, jubilación, mercado asegurador, patrimonio, previsión,\n",
    "productos financieros, rentabilidad, seguridad, transparencia, viabilidad, mediación,\n",
    "experiencia, profesionalidad, confianza, servicio, calidad, compromiso, innovación, digital,\n",
    "tecnología, sostenibilidad, futuro, tranquilidad, bienestar, soluciones, personalización\n",
    "\"\"\""
   ]
  },
  {
   "cell_type": "code",
   "execution_count": 8,
   "metadata": {},
   "outputs": [
    {
     "ename": "FileNotFoundError",
     "evalue": "[Errno 2] No such file or directory: 'candado.png'",
     "output_type": "error",
     "traceback": [
      "\u001b[0;31m---------------------------------------------------------------------------\u001b[0m",
      "\u001b[0;31mFileNotFoundError\u001b[0m                         Traceback (most recent call last)",
      "Cell \u001b[0;32mIn[8], line 11\u001b[0m\n\u001b[1;32m      7\u001b[0m     \u001b[38;5;28;01mreturn\u001b[39;00m mascara\n\u001b[1;32m      9\u001b[0m \u001b[38;5;66;03m# Puedes usar cualquier imagen PNG con fondo transparente\u001b[39;00m\n\u001b[1;32m     10\u001b[0m \u001b[38;5;66;03m# Por ejemplo: 'candado.png', 'escudo.png', 'check.png'\u001b[39;00m\n\u001b[0;32m---> 11\u001b[0m mascara \u001b[38;5;241m=\u001b[39m \u001b[43mcargar_mascara\u001b[49m\u001b[43m(\u001b[49m\u001b[38;5;124;43m'\u001b[39;49m\u001b[38;5;124;43mcandado.png\u001b[39;49m\u001b[38;5;124;43m'\u001b[39;49m\u001b[43m)\u001b[49m\n\u001b[1;32m     13\u001b[0m \u001b[38;5;66;03m# Configuración de la nube de palabras\u001b[39;00m\n\u001b[1;32m     14\u001b[0m nube \u001b[38;5;241m=\u001b[39m WordCloud(\n\u001b[1;32m     15\u001b[0m     max_words\u001b[38;5;241m=\u001b[39m\u001b[38;5;241m150\u001b[39m,\n\u001b[1;32m     16\u001b[0m     background_color\u001b[38;5;241m=\u001b[39m\u001b[38;5;124m'\u001b[39m\u001b[38;5;124mwhite\u001b[39m\u001b[38;5;124m'\u001b[39m,\n\u001b[0;32m   (...)\u001b[0m\n\u001b[1;32m     25\u001b[0m     colormap\u001b[38;5;241m=\u001b[39m\u001b[38;5;124m'\u001b[39m\u001b[38;5;124mRdYlBu\u001b[39m\u001b[38;5;124m'\u001b[39m\n\u001b[1;32m     26\u001b[0m )\u001b[38;5;241m.\u001b[39mgenerate(texto_corredurías)\n",
      "Cell \u001b[0;32mIn[8], line 3\u001b[0m, in \u001b[0;36mcargar_mascara\u001b[0;34m(ruta_imagen)\u001b[0m\n\u001b[1;32m      2\u001b[0m \u001b[38;5;28;01mdef\u001b[39;00m \u001b[38;5;21mcargar_mascara\u001b[39m(ruta_imagen):\n\u001b[0;32m----> 3\u001b[0m     mascara \u001b[38;5;241m=\u001b[39m np\u001b[38;5;241m.\u001b[39marray(\u001b[43mImage\u001b[49m\u001b[38;5;241;43m.\u001b[39;49m\u001b[43mopen\u001b[49m\u001b[43m(\u001b[49m\u001b[43mruta_imagen\u001b[49m\u001b[43m)\u001b[49m)\n\u001b[1;32m      4\u001b[0m     \u001b[38;5;66;03m# Convertir imagen RGB a escala de grises si es necesario\u001b[39;00m\n\u001b[1;32m      5\u001b[0m     \u001b[38;5;28;01mif\u001b[39;00m \u001b[38;5;28mlen\u001b[39m(mascara\u001b[38;5;241m.\u001b[39mshape) \u001b[38;5;241m>\u001b[39m \u001b[38;5;241m2\u001b[39m:\n",
      "File \u001b[0;32m/Library/Frameworks/Python.framework/Versions/3.11/lib/python3.11/site-packages/PIL/Image.py:3243\u001b[0m, in \u001b[0;36mopen\u001b[0;34m(fp, mode, formats)\u001b[0m\n\u001b[1;32m   3240\u001b[0m     filename \u001b[38;5;241m=\u001b[39m fp\n\u001b[1;32m   3242\u001b[0m \u001b[38;5;28;01mif\u001b[39;00m filename:\n\u001b[0;32m-> 3243\u001b[0m     fp \u001b[38;5;241m=\u001b[39m \u001b[43mbuiltins\u001b[49m\u001b[38;5;241;43m.\u001b[39;49m\u001b[43mopen\u001b[49m\u001b[43m(\u001b[49m\u001b[43mfilename\u001b[49m\u001b[43m,\u001b[49m\u001b[43m \u001b[49m\u001b[38;5;124;43m\"\u001b[39;49m\u001b[38;5;124;43mrb\u001b[39;49m\u001b[38;5;124;43m\"\u001b[39;49m\u001b[43m)\u001b[49m\n\u001b[1;32m   3244\u001b[0m     exclusive_fp \u001b[38;5;241m=\u001b[39m \u001b[38;5;28;01mTrue\u001b[39;00m\n\u001b[1;32m   3246\u001b[0m \u001b[38;5;28;01mtry\u001b[39;00m:\n",
      "\u001b[0;31mFileNotFoundError\u001b[0m: [Errno 2] No such file or directory: 'candado.png'"
     ]
    }
   ],
   "source": [
    "# Cargar y preparar la máscara desde una imagen\n",
    "def cargar_mascara(ruta_imagen):\n",
    "    mascara = np.array(Image.open(ruta_imagen))\n",
    "    # Convertir imagen RGB a escala de grises si es necesario\n",
    "    if len(mascara.shape) > 2:\n",
    "        mascara = mascara[:,:,0]\n",
    "    return mascara\n",
    "\n",
    "# Puedes usar cualquier imagen PNG con fondo transparente\n",
    "# Por ejemplo: 'candado.png', 'escudo.png', 'check.png'\n",
    "mascara = cargar_mascara('candado.png')\n",
    "\n",
    "# Configuración de la nube de palabras\n",
    "nube = WordCloud(\n",
    "    max_words=150,\n",
    "    background_color='white',\n",
    "    width=800,\n",
    "    height=1000,\n",
    "    mask=mascara,\n",
    "    prefer_horizontal=0.7,\n",
    "    min_font_size=8,\n",
    "    max_font_size=60,\n",
    "    random_state=42,\n",
    "    collocations=False,\n",
    "    colormap='RdYlBu'\n",
    ").generate(texto_corredurías)\n",
    "\n",
    "# Mostrar resultado\n",
    "plt.figure(figsize=(10,12), facecolor='white')\n",
    "plt.imshow(nube, interpolation='bilinear')\n",
    "plt.axis('off')\n",
    "plt.tight_layout(pad=0)\n",
    "plt.title('Seguridad & Confianza', \n",
    "        fontsize=20, \n",
    "        pad=20, \n",
    "        fontweight='bold', \n",
    "        color='navy')\n",
    "plt.show()"
   ]
  }
 ],
 "metadata": {
  "kernelspec": {
   "display_name": "Python 3",
   "language": "python",
   "name": "python3"
  },
  "language_info": {
   "codemirror_mode": {
    "name": "ipython",
    "version": 3
   },
   "file_extension": ".py",
   "mimetype": "text/x-python",
   "name": "python",
   "nbconvert_exporter": "python",
   "pygments_lexer": "ipython3",
   "version": "3.11.10"
  }
 },
 "nbformat": 4,
 "nbformat_minor": 2
}
